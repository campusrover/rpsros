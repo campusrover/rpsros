{
 "cells": [
  {
   "cell_type": "code",
   "execution_count": 22,
   "id": "98651bc5",
   "metadata": {},
   "outputs": [],
   "source": [
    "from scipy import interpolate\n",
    "import numpy as np"
   ]
  },
  {
   "cell_type": "code",
   "execution_count": 23,
   "id": "c2d42ebd",
   "metadata": {},
   "outputs": [],
   "source": [
    "    x = [0, 0, 2, 2]\n",
    "    y = [0, 2, 2, 0]\n"
   ]
  },
  {
   "cell_type": "code",
   "execution_count": 29,
   "id": "21e140ba",
   "metadata": {},
   "outputs": [],
   "source": [
    "s = [0.0]"
   ]
  },
  {
   "cell_type": "code",
   "execution_count": 30,
   "id": "baffa9a4",
   "metadata": {},
   "outputs": [],
   "source": [
    "s.extend(np.cumsum(ds))"
   ]
  },
  {
   "cell_type": "code",
   "execution_count": 31,
   "id": "47b129a6",
   "metadata": {},
   "outputs": [
    {
     "data": {
      "text/plain": [
       "[0.0, 2.0, 4.0, 6.0]"
      ]
     },
     "execution_count": 31,
     "metadata": {},
     "output_type": "execute_result"
    }
   ],
   "source": [
    "s"
   ]
  },
  {
   "cell_type": "code",
   "execution_count": 32,
   "id": "e36a213b",
   "metadata": {},
   "outputs": [],
   "source": [
    "kind = \"cubic\""
   ]
  },
  {
   "cell_type": "code",
   "execution_count": 33,
   "id": "c6bde3fd",
   "metadata": {},
   "outputs": [],
   "source": [
    "sx = interpolate.interp1d(s, x, kind=kind)\n",
    "sy = interpolate.interp1d(s, y, kind=kind)\n"
   ]
  },
  {
   "cell_type": "code",
   "execution_count": 35,
   "id": "28c7e580",
   "metadata": {},
   "outputs": [
    {
     "data": {
      "text/plain": [
       "array(-0.10925)"
      ]
     },
     "execution_count": 35,
     "metadata": {},
     "output_type": "execute_result"
    }
   ],
   "source": [
    "sx(0.1)"
   ]
  },
  {
   "cell_type": "code",
   "execution_count": 36,
   "id": "e3ac235b",
   "metadata": {},
   "outputs": [
    {
     "data": {
      "text/plain": [
       "array(-0.40625)"
      ]
     },
     "execution_count": 36,
     "metadata": {},
     "output_type": "execute_result"
    }
   ],
   "source": [
    "sx(0.5)"
   ]
  },
  {
   "cell_type": "code",
   "execution_count": null,
   "id": "15ee0c42",
   "metadata": {},
   "outputs": [],
   "source": []
  }
 ],
 "metadata": {
  "kernelspec": {
   "display_name": "Python 3 (ipykernel)",
   "language": "python",
   "name": "python3"
  },
  "language_info": {
   "codemirror_mode": {
    "name": "ipython",
    "version": 3
   },
   "file_extension": ".py",
   "mimetype": "text/x-python",
   "name": "python",
   "nbconvert_exporter": "python",
   "pygments_lexer": "ipython3",
   "version": "3.10.5"
  }
 },
 "nbformat": 4,
 "nbformat_minor": 5
}
